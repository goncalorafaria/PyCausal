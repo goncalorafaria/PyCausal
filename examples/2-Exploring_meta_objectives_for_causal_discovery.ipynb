{
 "cells": [
  {
   "cell_type": "code",
   "execution_count": 221,
   "metadata": {},
   "outputs": [],
   "source": [
    "import torch\n",
    "from pycausal import *\n",
    "from copy import deepcopy\n",
    "import matplotlib.pyplot as plt\n",
    "###444544\n",
    "from numba import jit"
   ]
  },
  {
   "cell_type": "code",
   "execution_count": 222,
   "metadata": {},
   "outputs": [],
   "source": [
    "class MDN(torch.nn.Module):\n",
    "    def __init__(self, n_hidden, n_components, act = torch.nn.LeakyReLU() ):\n",
    "        super(MDN,self).__init__()\n",
    "        self.components = n_components\n",
    "        \n",
    "        nh = len(n_hidden)\n",
    "        l = []\n",
    "        for i in range(1,nh-1):\n",
    "            l.append(\n",
    "                nn.Linear(n_hidden[i-1],n_hidden[i]) \n",
    "            )\n",
    "            l.append(\n",
    "                act\n",
    "            )\n",
    "            #l.append(\n",
    "            #    nn.BatchNorm1d(n_hidden[i])\n",
    "            #)\n",
    "        \n",
    "        l = l + [nn.Linear(n_hidden[nh-2],n_hidden[nh-1]),act]\n",
    "        #print(l)\n",
    "        self.z_h = nn.Sequential( *l )\n",
    "        \n",
    "        self.z_pi = nn.Linear(n_hidden[-1], n_components)\n",
    "        self.z_mu = nn.Linear(n_hidden[-1], n_components)\n",
    "        self.z_sigma = nn.Linear(n_hidden[-1], n_components)\n",
    "    \n",
    "    #@jit(nopython=True, parallel=True)\n",
    "    def forward(self, x):\n",
    "        z_h = self.z_h(x)\n",
    "        pi = F.softmax(self.z_pi(z_h), -1)\n",
    "        mu = self.z_mu(z_h)\n",
    "        \n",
    "        sigma = torch.nn.ELU()(self.z_sigma(z_h)) + 1\n",
    "        #sigma = torch.exp(self.z_sigma(z_h))\n",
    "        return pi, mu, sigma\n",
    "    \n",
    "    #@jit(nopython=True, parallel=True)\n",
    "    def loss(pi_mu_sigma, y, reduce=True, entropy_reg=True):\n",
    "        pi, mu, sigma = pi_mu_sigma\n",
    "        m = torch.distributions.Normal(loc=mu, scale=sigma)\n",
    "        \n",
    "        log_prob_y = m.log_prob(y) ## y | theta\n",
    "        \n",
    "        lp = torch.log(pi)\n",
    "        \n",
    "        log_prob_pi_y = log_prob_y + lp\n",
    "        loss = -torch.logsumexp(log_prob_pi_y, dim=1) # log ( sum_i (exp xi) )\n",
    "        \n",
    "        if entropy_reg:\n",
    "            entropy = -torch.sum(lp * pi,dim=1)/ pi.shape[1]\n",
    "            loss = loss - 0.5 *entropy\n",
    "        \n",
    "        if reduce:\n",
    "            return torch.mean(loss)\n",
    "        else:\n",
    "            return loss"
   ]
  },
  {
   "cell_type": "code",
   "execution_count": 223,
   "metadata": {},
   "outputs": [],
   "source": [
    "## loading models\n",
    "modelxy = torch.load(\"model_x->y\")\n",
    "modelyx = torch.load(\"model_y->x\")"
   ]
  },
  {
   "cell_type": "code",
   "execution_count": 224,
   "metadata": {},
   "outputs": [],
   "source": [
    "## loading SCM\n",
    "base = SCM.load(\"base.scm\")\n",
    "transfer = SCM.load(\"transfer.scm\")"
   ]
  },
  {
   "cell_type": "code",
   "execution_count": 225,
   "metadata": {},
   "outputs": [],
   "source": [
    "class Dataset(torch.utils.data.Dataset):\n",
    "    def __init__(self, n, scm, features =\"X\", labels=\"Y\"):\n",
    "        'Initialization'\n",
    "        smps = scm._sample(n)\n",
    "        self.X_train =smps[features]\n",
    "        self.Y_train =smps[labels]\n",
    "\n",
    "    def __len__(self):\n",
    "        'Denotes the total number of samples'\n",
    "        return self.X_train.shape[0]\n",
    "\n",
    "    def __getitem__(self, index):\n",
    "        'Generates one sample of data'\n",
    "\n",
    "        return torch.tensor(self.X_train[index],dtype=torch.float32), torch.tensor(self.Y_train[index],dtype=torch.float32)"
   ]
  },
  {
   "cell_type": "code",
   "execution_count": 226,
   "metadata": {},
   "outputs": [],
   "source": [
    "from torch_lr_finder import LRFinder\n",
    "from torch.utils.data import DataLoader\n",
    "import torch.nn.functional as F\n",
    "\n",
    "#@jit(nopython=True, parallel=True)\n",
    "def lrfind(model,scm,features=\"X\",labels=\"Y\",epoch=2000,batch=4,loss=MDN.loss):\n",
    "    optim = torch.optim.Adam(model.parameters(), lr=1e-6)\n",
    "    trainloader = DataLoader(\n",
    "        Dataset(batch*epoch, scm, features=features, labels=labels), \n",
    "        batch_size=batch, \n",
    "        shuffle=False)\n",
    "\n",
    "    lr_finder = LRFinder(model, optim, loss, device=\"cpu\")\n",
    "    lr_finder.range_test(trainloader, end_lr=10, num_iter=100, step_mode='exp')\n",
    "    lr_finder.plot() # to inspect the loss-learning rate graph\n",
    "    lr_finder.reset()"
   ]
  },
  {
   "cell_type": "code",
   "execution_count": 227,
   "metadata": {
    "scrolled": false
   },
   "outputs": [
    {
     "data": {
      "application/vnd.jupyter.widget-view+json": {
       "model_id": "b650f907ac7b4a78a520bcd832aa7463"
      }
     },
     "metadata": {},
     "output_type": "display_data"
    },
    {
     "name": "stdout",
     "output_type": "stream",
     "text": [
      "Stopping early, the loss has diverged\n",
      "\n",
      "Learning rate search finished. See the graph with {finder_name}.plot()\n"
     ]
    },
    {
     "data": {
      "image/png": "[encoded data removed]",
      "text/plain": [
       "<Figure size 432x288 with 1 Axes>"
      ]
     },
     "metadata": {
      "needs_background": "light"
     },
     "output_type": "display_data"
    }
   ],
   "source": [
    "fmodel = deepcopy(modelxy)\n",
    "lrfind(fmodel,transfer,features=\"X\",labels=\"Y\")"
   ]
  },
  {
   "cell_type": "code",
   "execution_count": 228,
   "metadata": {},
   "outputs": [
    {
     "data": {
      "application/vnd.jupyter.widget-view+json": {
       "model_id": "7bfce60ab06b4f42985934e29b6b0dba"
      }
     },
     "metadata": {},
     "output_type": "display_data"
    },
    {
     "name": "stdout",
     "output_type": "stream",
     "text": [
      "Stopping early, the loss has diverged\n",
      "\n",
      "Learning rate search finished. See the graph with {finder_name}.plot()\n"
     ]
    },
    {
     "data": {
      "image/png": "[encoded data removed]",
      "text/plain": [
       "<Figure size 432x288 with 1 Axes>"
      ]
     },
     "metadata": {
      "needs_background": "light"
     },
     "output_type": "display_data"
    }
   ],
   "source": [
    "fmodel = deepcopy(modelyx)\n",
    "lrfind(fmodel,transfer,features=\"Y\",labels=\"X\")"
   ]
  },
  {
   "cell_type": "code",
   "execution_count": 229,
   "metadata": {},
   "outputs": [],
   "source": [
    "def fit(base, model, heads=1, lr=1e-4,features=\"X\",labels=\"Y\",traini=False):\n",
    "    #model = MDN([1,200], 12)\n",
    "    \n",
    "    lossap=None\n",
    "    #if traini :\n",
    "    #    lossap = train(model,base,lr,features,labels, epoch= 2000)\n",
    "    #    plt.plot(lossap)\n",
    "    #    plt.show()\n",
    "        \n",
    "    smps= base._sample(300)\n",
    "        \n",
    "    xx = np.sort(smps[features].ravel()).reshape(-1,1)\n",
    "    xx = torch.tensor(xx,dtype=torch.float32)\n",
    "\n",
    "    pi, mu, sigma = model.forward(xx)\n",
    "\n",
    "    #pi = F.softmax(pi,dim=1)\n",
    "    #sigma = torch.exp(sigma)\n",
    "\n",
    "\n",
    "    a = torch.sum(pi * mu, dim=1)\n",
    "\n",
    "    plt.scatter(smps[features], smps[labels])\n",
    "    plt.plot(xx.numpy().ravel(), a.detach().numpy(),c=\"black\")\n",
    "    for i in range(heads):\n",
    "        plt.plot(xx.numpy().ravel(), mu[:,i].detach().numpy())\n",
    "\n",
    "    plt.show()\n",
    "    \n",
    "    return model"
   ]
  },
  {
   "cell_type": "code",
   "execution_count": 213,
   "metadata": {},
   "outputs": [],
   "source": [
    "class ProposalSCM():\n",
    "    def __init__(self, model, lr):\n",
    "        self.omodel = model\n",
    "        self.model = deepcopy(model)\n",
    "        self.optim = torch.optim.Adam(\n",
    "            self.model.parameters(), lr=lr)\n",
    "        self.accumulation = torch.zeros((1,1)) \n",
    "        self.lr = lr\n",
    "    \n",
    "    def copy(self):\n",
    "        self.model = deepcopy(self.omodel)\n",
    "        self.accumulation = torch.zeros((1,1))\n",
    "        self.optim = torch.optim.Adam(\n",
    "            self.model.parameters(), lr=self.lr)\n",
    "        \n",
    "    def step(self,X_train,Y_train):\n",
    "        y_h = self.model.forward(X_train)\n",
    "        energy = MDN.loss(y_h, Y_train,entropy_reg=True)\n",
    "        self.optim.zero_grad()\n",
    "        energy.backward()\n",
    "        self.optim.step()\n",
    "        \n",
    "    def evaluate(self,X_train,Y_train):\n",
    "        yt_h = self.model.forward(X_train)\n",
    "        energy = MDN.loss(yt_h, Y_train,entropy_reg=False)\n",
    "        \n",
    "        r = energy.detach()\n",
    "        self.accumulation += r\n",
    "        \n",
    "        return r\n",
    "    \n",
    "    def online_likelihood(self):\n",
    "        return self.accumulation        "
   ]
  },
  {
   "cell_type": "code",
   "execution_count": 214,
   "metadata": {},
   "outputs": [],
   "source": [
    "def meta(transfer, \n",
    "         features, \n",
    "         labels, \n",
    "         modelxy, \n",
    "         modelyx, \n",
    "         steps=15,\n",
    "         episodes=300,\n",
    "         lr = 1e-3,\n",
    "         metalr = 1e-2,\n",
    "         val=300):\n",
    "    \n",
    "    tpaths = {}\n",
    "    \n",
    "    scmxy = ProposalSCM(modelxy,lr)\n",
    "    scmyx = ProposalSCM(modelyx,lr)\n",
    "    \n",
    "    ## setup meta model. \n",
    "    gamma = torch.nn.parameter.Parameter(torch.zeros((1,1)))\n",
    "    \n",
    "    optimizer = torch.optim.SGD(\n",
    "              [ gamma ], lr=metalr)\n",
    "    \n",
    "    gpath = []\n",
    "    \n",
    "    for e in range(episodes):\n",
    "        ## setup new model\n",
    "        scmxy.copy()\n",
    "        scmyx.copy()\n",
    "     \n",
    "        tpaths[e] = []\n",
    "        \n",
    "        ## prepare dataset\n",
    "        dt = transfer._sample(steps+val)\n",
    "        \n",
    "        Xt_train = torch.tensor(dt[features][steps:], dtype=torch.float32)\n",
    "        Yt_train = torch.tensor(dt[labels][steps:], dtype=torch.float32)\n",
    "    \n",
    "        for i in range(steps):\n",
    "\n",
    "            smps = transfer._sample(1)\n",
    "            X_train = torch.tensor(dt[features][i].reshape(-1,1), dtype=torch.float32)\n",
    "            Y_train = torch.tensor(dt[labels][i].reshape(-1,1), dtype=torch.float32)\n",
    "            \n",
    "            scmxy.step(X_train, Y_train)\n",
    "            scmyx.step(Y_train, X_train)\n",
    "\n",
    "            # eval\n",
    "            \n",
    "            energyxy = scmxy.evaluate(X_train, Y_train)\n",
    "            energyyx = scmyx.evaluate(Y_train, X_train)\n",
    "            \n",
    "            energy = energyyx - energyxy\n",
    "            tpaths[e].append(energy.numpy())\n",
    "        \n",
    "        \n",
    "        pb = torch.nn.Sigmoid()(gamma)\n",
    "        \n",
    "        regret = pb * scmxy.online_likelihood() + (1 - pb) * scmyx.online_likelihood()\n",
    "        \n",
    "        optimizer.zero_grad()\n",
    "        regret.backward()\n",
    "        optimizer.step()\n",
    "        \n",
    "        tpaths[e] = np.stack(tpaths[e])\n",
    "        #lt.plot( tpaths[e], color=\"red\")\n",
    "        \n",
    "        gpath.append(pb.detach().numpy().ravel())\n",
    "    #print(gamma)   \n",
    "    return tpaths, gpath"
   ]
  },
  {
   "cell_type": "code",
   "execution_count": 219,
   "metadata": {
    "scrolled": true
   },
   "outputs": [
    {
     "data": {
      "image/png": "[encoded data removed]",
      "text/plain": [
       "<Figure size 432x288 with 1 Axes>"
      ]
     },
     "metadata": {
      "needs_background": "light"
     },
     "output_type": "display_data"
    }
   ],
   "source": [
    "l1 , g = meta(transfer,\"X\",\"Y\",modelxy,modelyx,\n",
    "              lr=1e-3, metalr=1e-2,episodes=200, \n",
    "              steps=15)\n",
    "\n",
    "l1 = list( l1.values() ) \n",
    "\n",
    "\n",
    "plt.title(\"X<-Y || X->Y\")\n",
    "plt.plot( sum(l1) / len(l1), label=\"x->y\", color=\"black\")\n",
    "plt.show()\n",
    "#l2 = list( metar(transfer,\"Y\",\"X\",modelyx,lr=1e-3).values() ) \n",
    "#plt.title(\"Y->X\")\n",
    "#plt.show()"
   ]
  },
  {
   "cell_type": "code",
   "execution_count": 220,
   "metadata": {
    "scrolled": true
   },
   "outputs": [
    {
     "data": {
      "image/png": "[encoded data removed]",
      "text/plain": [
       "<Figure size 432x288 with 1 Axes>"
      ]
     },
     "metadata": {
      "needs_background": "light"
     },
     "output_type": "display_data"
    }
   ],
   "source": [
    "#plt.plot( sum(l1) / len(l1), label=\"x->y\")\n",
    "#plt.plot( sum(l2) / len(l2), label=\"y->x\")\n",
    "plt.plot(g, color=\"black\")\n",
    "\n",
    "#plt.legend()\n",
    "plt.show()"
   ]
  },
  {
   "cell_type": "code",
   "execution_count": null,
   "metadata": {},
   "outputs": [],
   "source": []
  }
 ],
 "metadata": {
  "kernelspec": {
   "display_name": "Python 3",
   "language": "python",
   "name": "python3"
  },
  "language_info": {
   "codemirror_mode": {
    "name": "ipython",
    "version": 3
   },
   "file_extension": ".py",
   "mimetype": "text/x-python",
   "name": "python",
   "nbconvert_exporter": "python",
   "pygments_lexer": "ipython3",
   "version": "3.8.5"
  }
 },
 "nbformat": 4,
 "nbformat_minor": 4
}
